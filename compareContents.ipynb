{
 "cells": [
  {
   "cell_type": "markdown",
   "metadata": {},
   "source": [
    "# Description\n",
    "\n",
    "This notebook provides some tools to compare the total files from two directories (incl subdirectories) on duplicates or missing elements.\n",
    "\n",
    "Take care that the paths are existing otherwise the corresponding list will be empty.\n",
    "\n",
    "-> Functions are defined at the end. "
   ]
  },
  {
   "cell_type": "code",
   "execution_count": 132,
   "metadata": {},
   "outputs": [],
   "source": [
    "#! /usr/bin/python3\n",
    "import os"
   ]
  },
  {
   "cell_type": "markdown",
   "metadata": {},
   "source": [
    "# work flow"
   ]
  },
  {
   "cell_type": "code",
   "execution_count": 137,
   "metadata": {},
   "outputs": [
    {
     "name": "stdout",
     "output_type": "stream",
     "text": [
      "G:\\My Drive\\Philipp\\TUWIEN_catalysis_XRay\\data_SLS_2015_May_XRD\\checked_willDeleteIt_measurements_static_MERGED\n",
      "G:/My Drive/Philipp/TUWIEN_catalysis_XRay/data_SLS_2015_May_XRD/measurements_static_MERGED_complete_needsOnlySuryey/\n"
     ]
    }
   ],
   "source": [
    "dir1 = \"G:\\My Drive\\Philipp\\TUWIEN_catalysis_XRay\\data_SLS_2015_May_XRD\\checked_willDeleteIt_measurements_static_MERGED\"\n",
    "dir2 = 'G:/My Drive/Philipp/TUWIEN_catalysis_XRay/data_SLS_2015_May_XRD/measurements_static_MERGED_complete_needsOnlySuryey/'\n",
    "\n",
    "print(dir1)\n",
    "print(dir2)\n",
    "\n",
    "### define file endings that should be solely included or omitted:\n",
    "#endings = ['xye', 'xye_PAR', 'ini']\n",
    "endings = ['xye_PAR']\n",
    "endings = ['']\n",
    "#endings = ['xye', 'ini']\n",
    "endings = ['ini']"
   ]
  },
  {
   "cell_type": "code",
   "execution_count": 143,
   "metadata": {},
   "outputs": [
    {
     "name": "stdout",
     "output_type": "stream",
     "text": [
      "G:\\My Drive\\Philipp\\TUWIEN_catalysis_XRay\\data_SLS_2015_May_XRD\\checked_willDeleteIt_measurements_static_MERGED\n",
      "G:/My Drive/Philipp/TUWIEN_catalysis_XRay/data_SLS_2015_May_XRD/measurements_static_MERGED_complete_needsOnlySuryey/\n",
      "len list1     1\n",
      "len list2     30\n",
      "difference    29\n"
     ]
    }
   ],
   "source": [
    "### gives only files with specified ending(s)\n",
    "##  note: if '' all files will be given\n",
    "\n",
    "print(dir1)\n",
    "print(dir2)\n",
    "\n",
    "list1 = func_collectFilenamesInFolder_include(dir1, endings)\n",
    "list2 = func_collectFilenamesInFolder_include(dir2, endings)\n",
    "print('len list1    ', len(list1))\n",
    "print('len list2    ', len(list2))\n",
    "print('difference   ', abs(len(list1)-len(list2)) )"
   ]
  },
  {
   "cell_type": "code",
   "execution_count": 139,
   "metadata": {
    "scrolled": true
   },
   "outputs": [
    {
     "name": "stdout",
     "output_type": "stream",
     "text": [
      "G:\\My Drive\\Philipp\\TUWIEN_catalysis_XRay\\data_SLS_2015_May_XRD\\checked_willDeleteIt_measurements_static_MERGED\n",
      "G:/My Drive/Philipp/TUWIEN_catalysis_XRay/data_SLS_2015_May_XRD/measurements_static_MERGED_complete_needsOnlySuryey/\n",
      "len list1     3601\n",
      "len list2     3601\n",
      "difference    0\n"
     ]
    }
   ],
   "source": [
    "### gives only files with ending(s) different than specified\n",
    "##  note: if '' all files will be given\n",
    "\n",
    "print(dir1)\n",
    "print(dir2)\n",
    "\n",
    "list1 = func_collectFilenamesInFolder_exclude(dir1, endings)\n",
    "list2 = func_collectFilenamesInFolder_exclude(dir2, endings)\n",
    "print('len list1    ', len(list1))\n",
    "print('len list2    ', len(list2))\n",
    "print('difference   ', abs(len(list1)-len(list2)) )"
   ]
  },
  {
   "cell_type": "code",
   "execution_count": 144,
   "metadata": {
    "scrolled": true
   },
   "outputs": [
    {
     "name": "stdout",
     "output_type": "stream",
     "text": [
      "0\n",
      "[]\n",
      "0\n",
      "[]\n"
     ]
    }
   ],
   "source": [
    "### double sided check for missing\n",
    "\n",
    "a = func_compare_missing(list1, list2)\n",
    "print(len(a))\n",
    "print(a)\n",
    "b = func_compare_missing(list2, list1)\n",
    "print(len(b))\n",
    "print(b)"
   ]
  },
  {
   "cell_type": "code",
   "execution_count": 141,
   "metadata": {},
   "outputs": [
    {
     "name": "stdout",
     "output_type": "stream",
     "text": [
      "0\n",
      "[]\n",
      "0\n",
      "[]\n"
     ]
    }
   ],
   "source": [
    "### double sided check for multiple\n",
    "\n",
    "a = func_compare_multiple(list1, list2)\n",
    "print(len(a))\n",
    "print(a)\n",
    "b = func_compare_multiple(list2, list1)\n",
    "print(len(b))\n",
    "print(b)"
   ]
  },
  {
   "cell_type": "code",
   "execution_count": 145,
   "metadata": {},
   "outputs": [
    {
     "name": "stdout",
     "output_type": "stream",
     "text": [
      "1 30\n"
     ]
    },
    {
     "data": {
      "text/plain": [
       "(0, 0)"
      ]
     },
     "execution_count": 145,
     "metadata": {},
     "output_type": "execute_result"
    }
   ],
   "source": [
    "print(len(list1), len(list2))\n",
    "missing1, missing2 = func_compare_complex(a = list1, b = list2)\n",
    "len(missing1), len(missing2)"
   ]
  },
  {
   "cell_type": "markdown",
   "metadata": {},
   "source": [
    "# define functions"
   ]
  },
  {
   "cell_type": "markdown",
   "metadata": {},
   "source": [
    "## collect filenames"
   ]
  },
  {
   "cell_type": "code",
   "execution_count": null,
   "metadata": {},
   "outputs": [],
   "source": [
    "def func_collectFilenamesInFolder_include(folder, fileTypes=[]):\n",
    "        \"\"\"\n",
    "        Returns a list of strings with specific ending in a given folder.\n",
    "        Searches in all level, i.e. also in subdirectories.\n",
    "        \"\"\"\n",
    "        return [ file_ for root, _ , files in os.walk(folder) for file_ in files for fileType in fileTypes if file_.endswith(fileType)]\n",
    "\n",
    "def func_collectFilenamesInFolder_exclude(folder, exclude=[]):\n",
    "        \"\"\"\n",
    "        Returns a list of strings with specific ending in a given folder.\n",
    "        Searches in all level, i.e. also in subdirectories.\n",
    "        \"\"\"\n",
    "        return [ file_ for root, _ , files in os.walk(folder) for file_ in files if not file_.split('.')[-1] in exclude]"
   ]
  },
  {
   "cell_type": "markdown",
   "metadata": {},
   "source": [
    "## examples for possible comparisons"
   ]
  },
  {
   "cell_type": "code",
   "execution_count": 146,
   "metadata": {},
   "outputs": [],
   "source": [
    "def func_compare_missing(list1, list2):\n",
    "    \"\"\"\n",
    "    \"\"\"\n",
    "    missing = []\n",
    "    for i in range(len(list1)):\n",
    "        count = 0\n",
    "        for j in  range(len(list2)):\n",
    "            if list1[i] == list2[j]:\n",
    "                count += 1\n",
    "        if count == 0:\n",
    "            missing.append(list1[i])\n",
    "    return missing"
   ]
  },
  {
   "cell_type": "code",
   "execution_count": 147,
   "metadata": {},
   "outputs": [],
   "source": [
    "def func_compare_multiple(list1, list2):\n",
    "    \"\"\"\n",
    "    \"\"\"\n",
    "    missing = []\n",
    "    for i in range(len(list1)):\n",
    "        count = 0\n",
    "        for j in  range(len(list2)):\n",
    "            if list1[i] == list2[j]:\n",
    "                count += 1\n",
    "        if count > 1:\n",
    "            missing.append(list1[i])\n",
    "    return missing"
   ]
  },
  {
   "cell_type": "code",
   "execution_count": 148,
   "metadata": {},
   "outputs": [],
   "source": [
    "def func_compare_specific(list1, list2):\n",
    "    \"\"\"\n",
    "    \"\"\"\n",
    "    missing = []\n",
    "    for i in range(len(list1)):\n",
    "        count = 0\n",
    "        for j in  range(len(list2)): \n",
    "            if list1[i] == 'desktop.ini':\n",
    "                count += 1\n",
    "        if count > 0:\n",
    "            missing.append(list1[i])\n",
    "    return missing"
   ]
  },
  {
   "cell_type": "markdown",
   "metadata": {},
   "source": [
    "## another idea for comparison\n",
    "\n",
    "attention: this removes elements from the lists, potentially reducing the effective size but might have no advantage over the methods above\n",
    "\n",
    "if elemts are set e.g. to zero there is no guarantee that another element was not zero too. '' could be an alternative "
   ]
  },
  {
   "cell_type": "code",
   "execution_count": 149,
   "metadata": {},
   "outputs": [],
   "source": [
    "def func_compare_complex(a = [1,2,3,4,5,6,0,0,0], b = [6,7,4,2,0,2,2,1]):\n",
    "    \"\"\"\n",
    "    Here duplicates are removed from list2: b and\n",
    "    then list1: a is checked itself for duplicates.\n",
    "    Might be improved in terms of unnecessary checkings\n",
    "    \"\"\"\n",
    "    \n",
    "    a = a[:]\n",
    "    b = b[:]\n",
    "    for i in reversed(range(len(a))):\n",
    "        count = 0\n",
    "        for j in reversed(range(len(b))):\n",
    "            if a[i] == b[j]:\n",
    "                del b[j]\n",
    "                count += 1\n",
    "        comp = a[i]\n",
    "        for k in reversed(range(len(a))):\n",
    "            if a[k] == comp:\n",
    "                a[k] = ''\n",
    "        if count == 0 :\n",
    "            a[i] = comp\n",
    "        #else:\n",
    "        #    a[i] = ''\n",
    "    ### remove all '' from list1 to show only names that were not contained in the second list \n",
    "    a = [i for i in a if i != '']\n",
    "        \n",
    "    return a, b"
   ]
  },
  {
   "cell_type": "code",
   "execution_count": null,
   "metadata": {},
   "outputs": [],
   "source": []
  }
 ],
 "metadata": {
  "kernelspec": {
   "display_name": "Python 3",
   "language": "python",
   "name": "python3"
  },
  "language_info": {
   "codemirror_mode": {
    "name": "ipython",
    "version": 3
   },
   "file_extension": ".py",
   "mimetype": "text/x-python",
   "name": "python",
   "nbconvert_exporter": "python",
   "pygments_lexer": "ipython3",
   "version": "3.7.4"
  }
 },
 "nbformat": 4,
 "nbformat_minor": 2
}
